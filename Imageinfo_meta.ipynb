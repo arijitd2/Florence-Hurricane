{
 "cells": [
  {
   "cell_type": "code",
   "execution_count": 1,
   "metadata": {},
   "outputs": [],
   "source": [
    "import ee\n",
    "ee.Initialize()"
   ]
  },
  {
   "cell_type": "code",
   "execution_count": 2,
   "metadata": {},
   "outputs": [],
   "source": [
    "# Load an image.\n",
    "image = ee.Image('LANDSAT/LC08/C01/T1/LC08_044034_20140318')"
   ]
  },
  {
   "cell_type": "code",
   "execution_count": 28,
   "metadata": {},
   "outputs": [
    {
     "name": "stdout",
     "output_type": "stream",
     "text": [
      "ee.Image({\n",
      "  \"type\": \"Invocation\",\n",
      "  \"arguments\": {\n",
      "    \"input\": {\n",
      "      \"type\": \"Invocation\",\n",
      "      \"arguments\": {\n",
      "        \"id\": \"LANDSAT/LC08/C01/T1/LC08_044034_20140318\"\n",
      "      },\n",
      "      \"functionName\": \"Image.load\"\n",
      "    },\n",
      "    \"bandSelectors\": [\n",
      "      \"bandNames\"\n",
      "    ]\n",
      "  },\n",
      "  \"functionName\": \"Image.select\"\n",
      "})\n"
     ]
    }
   ],
   "source": [
    "print(image.select('bandName"
   ]
  },
  {
   "cell_type": "code",
   "execution_count": null,
   "metadata": {},
   "outputs": [],
   "source": []
  },
  {
   "cell_type": "code",
   "execution_count": 7,
   "metadata": {},
   "outputs": [
    {
     "name": "stdout",
     "output_type": "stream",
     "text": [
      "Band names:  ee.List({\n",
      "  \"type\": \"Invocation\",\n",
      "  \"arguments\": {\n",
      "    \"image\": {\n",
      "      \"type\": \"Invocation\",\n",
      "      \"arguments\": {\n",
      "        \"id\": \"LANDSAT/LC08/C01/T1/LC08_044034_20140318\"\n",
      "      },\n",
      "      \"functionName\": \"Image.load\"\n",
      "    }\n",
      "  },\n",
      "  \"functionName\": \"Image.bandNames\"\n",
      "})\n"
     ]
    }
   ],
   "source": [
    "# Get information about the bands as a list.\n",
    "bandNames = image.bandNames()\n",
    "print('Band names: ', bandNames) # ee.List of band names\n"
   ]
  },
  {
   "cell_type": "code",
   "execution_count": 14,
   "metadata": {},
   "outputs": [
    {
     "name": "stdout",
     "output_type": "stream",
     "text": [
      "Band 1 projection:  ee.Projection({\n",
      "  \"type\": \"Invocation\",\n",
      "  \"arguments\": {\n",
      "    \"crs\": {\n",
      "      \"type\": \"Invocation\",\n",
      "      \"arguments\": {\n",
      "        \"image\": {\n",
      "          \"type\": \"Invocation\",\n",
      "          \"arguments\": {\n",
      "            \"input\": {\n",
      "              \"type\": \"Invocation\",\n",
      "              \"arguments\": {\n",
      "                \"id\": \"LANDSAT/LC08/C01/T1/LC08_044034_20140318\"\n",
      "              },\n",
      "              \"functionName\": \"Image.load\"\n",
      "            },\n",
      "            \"bandSelectors\": [\n",
      "              \"B1\"\n",
      "            ]\n",
      "          },\n",
      "          \"functionName\": \"Image.select\"\n",
      "        }\n",
      "      },\n",
      "      \"functionName\": \"Image.projection\"\n",
      "    }\n",
      "  },\n",
      "  \"functionName\": \"Projection\"\n",
      "})\n"
     ]
    }
   ],
   "source": [
    "# Get projection information from band 1.\n",
    "b1proj = image.select('B1').projection()\n",
    "print('Band 1 projection: ', b1proj) # ee.Projection object"
   ]
  },
  {
   "cell_type": "code",
   "execution_count": 15,
   "metadata": {},
   "outputs": [
    {
     "name": "stdout",
     "output_type": "stream",
     "text": [
      "Band 1 scale:  ee.Number({\n",
      "  \"type\": \"Invocation\",\n",
      "  \"arguments\": {\n",
      "    \"proj\": {\n",
      "      \"type\": \"Invocation\",\n",
      "      \"arguments\": {\n",
      "        \"crs\": {\n",
      "          \"type\": \"Invocation\",\n",
      "          \"arguments\": {\n",
      "            \"image\": {\n",
      "              \"type\": \"Invocation\",\n",
      "              \"arguments\": {\n",
      "                \"input\": {\n",
      "                  \"type\": \"Invocation\",\n",
      "                  \"arguments\": {\n",
      "                    \"id\": \"LANDSAT/LC08/C01/T1/LC08_044034_20140318\"\n",
      "                  },\n",
      "                  \"functionName\": \"Image.load\"\n",
      "                },\n",
      "                \"bandSelectors\": [\n",
      "                  \"B1\"\n",
      "                ]\n",
      "              },\n",
      "              \"functionName\": \"Image.select\"\n",
      "            }\n",
      "          },\n",
      "          \"functionName\": \"Image.projection\"\n",
      "        }\n",
      "      },\n",
      "      \"functionName\": \"Projection\"\n",
      "    }\n",
      "  },\n",
      "  \"functionName\": \"Projection.nominalScale\"\n",
      "})\n"
     ]
    }
   ],
   "source": [
    "# Get scale (in meters) information from band 1.\n",
    "b1scale = image.select('B1').projection().nominalScale()\n",
    "print('Band 1 scale: ', b1scale) # ee.Number"
   ]
  },
  {
   "cell_type": "code",
   "execution_count": null,
   "metadata": {},
   "outputs": [],
   "source": []
  }
 ],
 "metadata": {
  "kernelspec": {
   "display_name": "Python 3",
   "language": "python",
   "name": "python3"
  },
  "language_info": {
   "codemirror_mode": {
    "name": "ipython",
    "version": 3
   },
   "file_extension": ".py",
   "mimetype": "text/x-python",
   "name": "python",
   "nbconvert_exporter": "python",
   "pygments_lexer": "ipython3",
   "version": "3.7.3"
  }
 },
 "nbformat": 4,
 "nbformat_minor": 2
}
